{
 "cells": [
  {
   "cell_type": "code",
   "execution_count": 3,
   "id": "d89d9adc-fdad-425c-8f3d-463c682a0636",
   "metadata": {},
   "outputs": [
    {
     "data": {
      "text/plain": [
       "1068"
      ]
     },
     "execution_count": 3,
     "metadata": {},
     "output_type": "execute_result"
    }
   ],
   "source": [
    "# python code\n",
    "x = 999\n",
    "y = 69\n",
    "sum = x + y\n",
    "sum\n"
   ]
  },
  {
   "cell_type": "code",
   "execution_count": 5,
   "id": "92ddb733-c694-47ea-b598-4f8fb78c4f1e",
   "metadata": {},
   "outputs": [
    {
     "name": "stdout",
     "output_type": "stream",
     "text": [
      "0\n",
      "1\n",
      "2\n",
      "3\n",
      "4\n"
     ]
    }
   ],
   "source": [
    "#Loop code\n",
    "for i in range(5):\n",
    "    print(i)\n"
   ]
  },
  {
   "cell_type": "code",
   "execution_count": 7,
   "id": "dd23ad0e-9215-436d-9881-d940aec341d5",
   "metadata": {},
   "outputs": [
    {
     "name": "stdout",
     "output_type": "stream",
     "text": [
      "Hello, Bunny!\n"
     ]
    },
    {
     "data": {
      "text/plain": [
       "'Welcome, Bunny!'"
      ]
     },
     "execution_count": 7,
     "metadata": {},
     "output_type": "execute_result"
    }
   ],
   "source": [
    "# Function Definition Code\n",
    "def greet(bunny):\n",
    "    print(f\"Hello, {bunny}!\")\n",
    "    return f\"Welcome, {bunny}!\"\n",
    "\n",
    "# Function Call code\n",
    "result = greet(\"Bunny\")\n",
    "result\n"
   ]
  },
  {
   "cell_type": "markdown",
   "id": "5f68d07f-fec9-4669-be89-dba785c3de2c",
   "metadata": {},
   "source": [
    "# Bhuvi\n",
    "## Testing\n",
    "\n",
    "* Bhuvi\n",
    "* ram\n",
    "* pawan\n",
    "\n",
    "**bunny**\n",
    "\n",
    "*This is PSPK*\n",
    "\n",
    "![Image]https://www.google.co.in/url?sa=i&url=https%3A%2F%2Fwww.ford.com%2Fcars%2Fmustang%2Fmodels%2Fgt-fastback%2F&psig=AOvVaw2rn587ZPccPEDxMlp5Jjsm&ust=1725070146678000&source=images&cd=vfe&opi=89978449&ved=0CBIQjRxqFwoTCICqrprUm4gDFQAAAAAdAAAAABAE\n"
   ]
  },
  {
   "cell_type": "code",
   "execution_count": null,
   "id": "f6d57301-7c09-4ade-844c-4da318c42977",
   "metadata": {},
   "outputs": [],
   "source": []
  }
 ],
 "metadata": {
  "kernelspec": {
   "display_name": "Python 3 (ipykernel)",
   "language": "python",
   "name": "python3"
  },
  "language_info": {
   "codemirror_mode": {
    "name": "ipython",
    "version": 3
   },
   "file_extension": ".py",
   "mimetype": "text/x-python",
   "name": "python",
   "nbconvert_exporter": "python",
   "pygments_lexer": "ipython3",
   "version": "3.12.4"
  }
 },
 "nbformat": 4,
 "nbformat_minor": 5
}
