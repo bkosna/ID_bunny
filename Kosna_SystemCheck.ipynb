{
 "cells": [
  {
   "cell_type": "markdown",
   "id": "f4517622-39d8-4799-993d-e2230e38e716",
   "metadata": {},
   "source": [
    "## Systems Check\n",
    "## Bhuvi\n",
    "## 8/21/2024"
   ]
  },
  {
   "cell_type": "code",
   "execution_count": 1,
   "id": "72ca8647-2056-4c0f-9e56-78c18c940f6e",
   "metadata": {},
   "outputs": [],
   "source": [
    "x = 3"
   ]
  },
  {
   "cell_type": "code",
   "execution_count": 2,
   "id": "426f05cd-efb2-4e03-adc8-5a54c771bdc9",
   "metadata": {},
   "outputs": [
    {
     "data": {
      "text/plain": [
       "3"
      ]
     },
     "execution_count": 2,
     "metadata": {},
     "output_type": "execute_result"
    }
   ],
   "source": [
    "x"
   ]
  },
  {
   "cell_type": "code",
   "execution_count": 3,
   "id": "c651710e-d82d-4343-802c-518631e0d6e4",
   "metadata": {},
   "outputs": [
    {
     "data": {
      "text/plain": [
       "[2, 3, 4, 5]"
      ]
     },
     "execution_count": 3,
     "metadata": {},
     "output_type": "execute_result"
    }
   ],
   "source": [
    "my_list = [2, 3, 4, 5]\n",
    "my_list"
   ]
  },
  {
   "cell_type": "code",
   "execution_count": 4,
   "id": "690dd9e4-16dd-456f-8b93-8449e0149754",
   "metadata": {},
   "outputs": [],
   "source": [
    "my_list = ['now', 'see', 'this']"
   ]
  },
  {
   "cell_type": "code",
   "execution_count": 5,
   "id": "4a05e544-4890-4ee8-b339-37c71733823d",
   "metadata": {},
   "outputs": [],
   "source": [
    "my_name = 'Bhuvi'"
   ]
  },
  {
   "cell_type": "code",
   "execution_count": 8,
   "id": "687d1ffd-3d7c-4168-b836-086faffa1dbb",
   "metadata": {},
   "outputs": [],
   "source": [
    "def display_name(x):\n",
    "    print(x)"
   ]
  },
  {
   "cell_type": "code",
   "execution_count": 9,
   "id": "d007dd7e-4556-4ff2-aa0c-ab113d63a4c5",
   "metadata": {},
   "outputs": [
    {
     "name": "stdout",
     "output_type": "stream",
     "text": [
      "Bhuvi\n"
     ]
    }
   ],
   "source": [
    "display_name(my_name)"
   ]
  },
  {
   "cell_type": "code",
   "execution_count": 10,
   "id": "81770c07-5d94-41a6-8341-6a64c40ad8a5",
   "metadata": {},
   "outputs": [],
   "source": [
    "def change_name(x):\n",
    "    new_name = x + 'new'\n",
    "    return new_name\n"
   ]
  },
  {
   "cell_type": "code",
   "execution_count": 12,
   "id": "f659799b-1ef0-41fa-9a47-69224c6dc224",
   "metadata": {},
   "outputs": [
    {
     "data": {
      "text/plain": [
       "'Bhuvinew'"
      ]
     },
     "execution_count": 12,
     "metadata": {},
     "output_type": "execute_result"
    }
   ],
   "source": [
    "changed_name = change_name('Bhuvi')\n",
    "changed_name"
   ]
  }
 ],
 "metadata": {
  "kernelspec": {
   "display_name": "Python 3 (ipykernel)",
   "language": "python",
   "name": "python3"
  },
  "language_info": {
   "codemirror_mode": {
    "name": "ipython",
    "version": 3
   },
   "file_extension": ".py",
   "mimetype": "text/x-python",
   "name": "python",
   "nbconvert_exporter": "python",
   "pygments_lexer": "ipython3",
   "version": "3.12.4"
  }
 },
 "nbformat": 4,
 "nbformat_minor": 5
}
